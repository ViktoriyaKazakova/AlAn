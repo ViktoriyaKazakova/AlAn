{
 "cells": [
  {
   "cell_type": "markdown",
   "metadata": {},
   "source": [
    "1. Постройте график зависимости весов всех признаков от lambda в L2-регуляризации (на данных из урока)."
   ]
  },
  {
   "cell_type": "code",
   "execution_count": 1,
   "metadata": {},
   "outputs": [],
   "source": [
    "import numpy as np\n",
    "import matplotlib.pyplot as plt"
   ]
  },
  {
   "cell_type": "code",
   "execution_count": 4,
   "metadata": {},
   "outputs": [],
   "source": [
    "def calc_std_feat(x):\n",
    "  res = (x - x.mean()) / x.std()\n",
    "  return res"
   ]
  },
  {
   "cell_type": "code",
   "execution_count": 5,
   "metadata": {},
   "outputs": [],
   "source": [
    "X = np.array([[1, 1, 1, 1, 1, 1, 1, 1, 1, 1],\n",
    "              [1, 1, 2, 1, 3, 0, 5, 10, 1, 2],\n",
    "              [500, 700, 750, 600, 1450,\n",
    "               800, 1500, 2000, 450, 1000],\n",
    "              [1, 1, 2, 1, 2, \n",
    "               1, 3, 3, 1, 2]])\n",
    "y = [45, 55, 50, 59, 65,\n",
    "    35, 75, 80, 50, 60]"
   ]
  },
  {
   "cell_type": "code",
   "execution_count": 6,
   "metadata": {},
   "outputs": [
    {
     "data": {
      "text/plain": [
       "array([[ 1.        ,  1.        ,  1.        ,  1.        ,  1.        ,\n",
       "         1.        ,  1.        ,  1.        ,  1.        ,  1.        ],\n",
       "       [-0.57142857, -0.57142857, -0.21428571, -0.57142857,  0.14285714,\n",
       "        -0.92857143,  0.85714286,  2.64285714, -0.57142857, -0.21428571],\n",
       "       [-0.97958969, -0.56713087, -0.46401617, -0.77336028,  0.97958969,\n",
       "        -0.36090146,  1.08270439,  2.11385144, -1.08270439,  0.05155735],\n",
       "       [-0.89625816, -0.89625816,  0.38411064, -0.89625816,  0.38411064,\n",
       "        -0.89625816,  1.66447944,  1.66447944, -0.89625816,  0.38411064]])"
      ]
     },
     "execution_count": 6,
     "metadata": {},
     "output_type": "execute_result"
    }
   ],
   "source": [
    "X_st = X.copy().astype(np.float64)\n",
    "X1_mean = X[1].mean()\n",
    "X1_std = X[1].std()\n",
    "X_st[1] = (X[1] - X1_mean) / X1_std\n",
    "X_st[2] = calc_std_feat(X[2])\n",
    "X_st[3] = calc_std_feat(X[3])\n",
    "X_st"
   ]
  },
  {
   "cell_type": "code",
   "execution_count": 7,
   "metadata": {},
   "outputs": [],
   "source": [
    "X_st[2] = calc_std_feat(X[2])"
   ]
  },
  {
   "cell_type": "code",
   "execution_count": 8,
   "metadata": {},
   "outputs": [
    {
     "data": {
      "text/plain": [
       "array([[ 1.        ,  1.        ,  1.        ,  1.        ,  1.        ,\n",
       "         1.        ,  1.        ,  1.        ,  1.        ,  1.        ],\n",
       "       [-0.57142857, -0.57142857, -0.21428571, -0.57142857,  0.14285714,\n",
       "        -0.92857143,  0.85714286,  2.64285714, -0.57142857, -0.21428571],\n",
       "       [-0.97958969, -0.56713087, -0.46401617, -0.77336028,  0.97958969,\n",
       "        -0.36090146,  1.08270439,  2.11385144, -1.08270439,  0.05155735],\n",
       "       [-0.89625816, -0.89625816,  0.38411064, -0.89625816,  0.38411064,\n",
       "        -0.89625816,  1.66447944,  1.66447944, -0.89625816,  0.38411064]])"
      ]
     },
     "execution_count": 8,
     "metadata": {},
     "output_type": "execute_result"
    }
   ],
   "source": [
    "X_st[3] = calc_std_feat(X[3])\n",
    "X_st"
   ]
  },
  {
   "cell_type": "code",
   "execution_count": 10,
   "metadata": {},
   "outputs": [],
   "source": [
    "def calc_mse(y, y_pred):\n",
    "  err = np.mean((y - y_pred)**2)\n",
    "  return err"
   ]
  },
  {
   "cell_type": "code",
   "execution_count": 15,
   "metadata": {},
   "outputs": [],
   "source": [
    "def eval_model_reg2_plot(X, y, steps, iterations, alpha=1e-4):\n",
    "    result_lambda=[]\n",
    "    W_0=[]\n",
    "    W_1=[]\n",
    "    W_2=[]\n",
    "    W_3=[]\n",
    "    x_label_list = np.geomspace(10**(-1),(10**(-(steps))),num=steps)\n",
    "    positions = [i for i in range (0,steps-1)]\n",
    "    for i in range(steps):\n",
    "        lambda_= np.geomspace(10**(-1),(10**(-(steps))),num=steps)[i]\n",
    "        np.random.seed(42)\n",
    "        W = np.random.randn(X.shape[0])\n",
    "        n = X.shape[1]\n",
    "        for j in range(1, iterations+1):\n",
    "            y_pred = np.dot(W, X)\n",
    "            err = calc_mse(y, y_pred)\n",
    "            W -= alpha * (1/n * 2 * np.dot((y_pred - y), X.T) + lambda_ * W) \n",
    "        result_lambda.append((W,lambda_))\n",
    "        W_0.append(W[0])\n",
    "        W_1.append(W[1])\n",
    "        W_2.append(W[2])\n",
    "        W_3.append(W[3])\n",
    "    plt.plot(W_0)\n",
    "    plt.plot(W_1)\n",
    "    plt.plot(W_2)\n",
    "    plt.plot(W_3)\n",
    "    plt.yscale(\"log\") \n",
    "    plt.xlabel (xlabel=\"Lambda L2\")\n",
    "    plt.xticks(positions,x_label_list) \n",
    "    return result_lambda, plt.show"
   ]
  },
  {
   "cell_type": "code",
   "execution_count": 12,
   "metadata": {},
   "outputs": [
    {
     "data": {
      "text/plain": [
       "([(array([54.66666667,  5.3118901 ,  2.25660813,  3.88109191]), 0.1),\n",
       "  (array([57.11442786,  6.0088442 ,  1.55430443,  4.08144793]), 0.01),\n",
       "  (array([57.37131434,  6.11038803,  1.44200443,  4.11257825]), 0.001),\n",
       "  (array([57.39713014,  6.12102515,  1.4301203 ,  4.11587451]), 0.0001),\n",
       "  (array([57.399713  ,  6.12209394,  1.42892499,  4.11620609]), 1e-05),\n",
       "  (array([57.3999713 ,  6.12220087,  1.42880539,  4.11623926]), 1e-06),\n",
       "  (array([57.39999713,  6.12221157,  1.42879343,  4.11624258]), 1e-07),\n",
       "  (array([57.39999971,  6.12221264,  1.42879223,  4.11624291]), 1e-08)],\n",
       " <function matplotlib.pyplot.show(*args, **kw)>)"
      ]
     },
     "execution_count": 12,
     "metadata": {},
     "output_type": "execute_result"
    },
    {
     "data": {
      "image/png": "[encoded data removed]",
      "text/plain": [
       "<Figure size 432x288 with 1 Axes>"
      ]
     },
     "metadata": {
      "needs_background": "light"
     },
     "output_type": "display_data"
    }
   ],
   "source": [
    "eval_model_reg2_plot(X_st, y,steps=8, iterations=5000, alpha=1e-2)"
   ]
  },
  {
   "cell_type": "markdown",
   "metadata": {},
   "source": [
    "2. Можно ли к одному и тому же признаку применить сразу и нормализацию, и стандартизацию?"
   ]
  },
  {
   "cell_type": "markdown",
   "metadata": {},
   "source": [
    "Можно, если исходный признак нормально распределен, то последовательно применять функции к одному и тому же набору данных ничего не мешает, но необходимо учитывать что итоговые значения зависеть будут только от обработки, примененной последней."
   ]
  }
 ],
 "metadata": {
  "kernelspec": {
   "display_name": "Python 3",
   "language": "python",
   "name": "python3"
  },
  "language_info": {
   "codemirror_mode": {
    "name": "ipython",
    "version": 3
   },
   "file_extension": ".py",
   "mimetype": "text/x-python",
   "name": "python",
   "nbconvert_exporter": "python",
   "pygments_lexer": "ipython3",
   "version": "3.7.1"
  }
 },
 "nbformat": 4,
 "nbformat_minor": 2
}
